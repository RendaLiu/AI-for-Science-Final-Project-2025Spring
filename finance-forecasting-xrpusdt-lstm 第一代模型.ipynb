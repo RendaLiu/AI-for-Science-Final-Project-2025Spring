{
 "cells": [
  {
   "cell_type": "markdown",
   "metadata": {},
   "source": [
    "# Final Project"
   ]
  },
  {
   "cell_type": "code",
   "execution_count": 1,
   "metadata": {},
   "outputs": [
    {
     "name": "stdout",
     "output_type": "stream",
     "text": [
      "Requirement already satisfied: yfinance in d:\\anaconda3\\lib\\site-packages (0.2.61)\n",
      "Requirement already satisfied: torchsde in d:\\anaconda3\\lib\\site-packages (0.2.6)\n",
      "Requirement already satisfied: fredapi in d:\\anaconda3\\lib\\site-packages (0.5.2)\n",
      "Requirement already satisfied: pandas>=1.3.0 in d:\\anaconda3\\lib\\site-packages (from yfinance) (2.2.2)\n",
      "Requirement already satisfied: numpy>=1.16.5 in d:\\anaconda3\\lib\\site-packages (from yfinance) (1.26.4)\n",
      "Requirement already satisfied: requests>=2.31 in d:\\anaconda3\\lib\\site-packages (from yfinance) (2.32.2)\n",
      "Requirement already satisfied: multitasking>=0.0.7 in d:\\anaconda3\\lib\\site-packages (from yfinance) (0.0.9)\n",
      "Requirement already satisfied: platformdirs>=2.0.0 in d:\\anaconda3\\lib\\site-packages (from yfinance) (3.10.0)\n",
      "Requirement already satisfied: pytz>=2022.5 in d:\\anaconda3\\lib\\site-packages (from yfinance) (2024.1)\n",
      "Requirement already satisfied: frozendict>=2.3.4 in d:\\anaconda3\\lib\\site-packages (from yfinance) (2.4.2)\n",
      "Requirement already satisfied: peewee>=3.16.2 in d:\\anaconda3\\lib\\site-packages (from yfinance) (3.17.6)\n",
      "Requirement already satisfied: beautifulsoup4>=4.11.1 in d:\\anaconda3\\lib\\site-packages (from yfinance) (4.12.3)\n",
      "Requirement already satisfied: curl_cffi>=0.7 in d:\\anaconda3\\lib\\site-packages (from yfinance) (0.11.1)\n",
      "Requirement already satisfied: protobuf>=3.19.0 in d:\\anaconda3\\lib\\site-packages (from yfinance) (3.20.3)\n",
      "Requirement already satisfied: websockets>=13.0 in d:\\anaconda3\\lib\\site-packages (from yfinance) (15.0.1)\n",
      "Requirement already satisfied: scipy>=1.5 in d:\\anaconda3\\lib\\site-packages (from torchsde) (1.13.1)\n",
      "Requirement already satisfied: torch>=1.6.0 in d:\\anaconda3\\lib\\site-packages (from torchsde) (2.4.0)\n",
      "Requirement already satisfied: trampoline>=0.1.2 in d:\\anaconda3\\lib\\site-packages (from torchsde) (0.1.2)\n",
      "Requirement already satisfied: soupsieve>1.2 in d:\\anaconda3\\lib\\site-packages (from beautifulsoup4>=4.11.1->yfinance) (2.5)\n",
      "Requirement already satisfied: cffi>=1.12.0 in d:\\anaconda3\\lib\\site-packages (from curl_cffi>=0.7->yfinance) (1.16.0)\n",
      "Requirement already satisfied: certifi>=2024.2.2 in d:\\anaconda3\\lib\\site-packages (from curl_cffi>=0.7->yfinance) (2024.7.4)\n",
      "Requirement already satisfied: python-dateutil>=2.8.2 in d:\\anaconda3\\lib\\site-packages (from pandas>=1.3.0->yfinance) (2.9.0.post0)\n",
      "Requirement already satisfied: tzdata>=2022.7 in d:\\anaconda3\\lib\\site-packages (from pandas>=1.3.0->yfinance) (2023.3)\n",
      "Requirement already satisfied: charset-normalizer<4,>=2 in d:\\anaconda3\\lib\\site-packages (from requests>=2.31->yfinance) (2.0.4)\n",
      "Requirement already satisfied: idna<4,>=2.5 in d:\\anaconda3\\lib\\site-packages (from requests>=2.31->yfinance) (3.7)\n",
      "Requirement already satisfied: urllib3<3,>=1.21.1 in d:\\anaconda3\\lib\\site-packages (from requests>=2.31->yfinance) (2.2.2)\n",
      "Requirement already satisfied: filelock in d:\\anaconda3\\lib\\site-packages (from torch>=1.6.0->torchsde) (3.13.1)\n",
      "Requirement already satisfied: typing-extensions>=4.8.0 in d:\\anaconda3\\lib\\site-packages (from torch>=1.6.0->torchsde) (4.11.0)\n",
      "Requirement already satisfied: sympy in d:\\anaconda3\\lib\\site-packages (from torch>=1.6.0->torchsde) (1.12)\n",
      "Requirement already satisfied: networkx in d:\\anaconda3\\lib\\site-packages (from torch>=1.6.0->torchsde) (3.2.1)\n",
      "Requirement already satisfied: jinja2 in d:\\anaconda3\\lib\\site-packages (from torch>=1.6.0->torchsde) (3.1.4)\n",
      "Requirement already satisfied: fsspec in d:\\anaconda3\\lib\\site-packages (from torch>=1.6.0->torchsde) (2024.3.1)\n",
      "Requirement already satisfied: setuptools in d:\\anaconda3\\lib\\site-packages (from torch>=1.6.0->torchsde) (69.5.1)\n",
      "Requirement already satisfied: pycparser in d:\\anaconda3\\lib\\site-packages (from cffi>=1.12.0->curl_cffi>=0.7->yfinance) (2.21)\n",
      "Requirement already satisfied: six>=1.5 in d:\\anaconda3\\lib\\site-packages (from python-dateutil>=2.8.2->pandas>=1.3.0->yfinance) (1.16.0)\n",
      "Requirement already satisfied: MarkupSafe>=2.0 in d:\\anaconda3\\lib\\site-packages (from jinja2->torch>=1.6.0->torchsde) (2.1.3)\n",
      "Requirement already satisfied: mpmath>=0.19 in d:\\anaconda3\\lib\\site-packages (from sympy->torch>=1.6.0->torchsde) (1.3.0)\n"
     ]
    }
   ],
   "source": [
    "!pip install yfinance torchsde fredapi"
   ]
  },
  {
   "cell_type": "code",
   "execution_count": 2,
   "metadata": {},
   "outputs": [
    {
     "name": "stdout",
     "output_type": "stream",
     "text": [
      "Requirement already satisfied: yahooquery in d:\\anaconda3\\lib\\site-packages (2.4.1)\n",
      "Requirement already satisfied: beautifulsoup4>=4.12.2 in d:\\anaconda3\\lib\\site-packages (from yahooquery) (4.12.3)\n",
      "Requirement already satisfied: curl-cffi>=0.10.0 in d:\\anaconda3\\lib\\site-packages (from yahooquery) (0.11.1)\n",
      "Requirement already satisfied: lxml>=4.9.3 in d:\\anaconda3\\lib\\site-packages (from yahooquery) (5.2.1)\n",
      "Requirement already satisfied: pandas>=2.2.0 in d:\\anaconda3\\lib\\site-packages (from yahooquery) (2.2.2)\n",
      "Requirement already satisfied: requests-futures>=1.0.1 in d:\\anaconda3\\lib\\site-packages (from yahooquery) (1.0.2)\n",
      "Requirement already satisfied: tqdm>=4.65.0 in d:\\anaconda3\\lib\\site-packages (from yahooquery) (4.66.4)\n",
      "Requirement already satisfied: soupsieve>1.2 in d:\\anaconda3\\lib\\site-packages (from beautifulsoup4>=4.12.2->yahooquery) (2.5)\n",
      "Requirement already satisfied: cffi>=1.12.0 in d:\\anaconda3\\lib\\site-packages (from curl-cffi>=0.10.0->yahooquery) (1.16.0)\n",
      "Requirement already satisfied: certifi>=2024.2.2 in d:\\anaconda3\\lib\\site-packages (from curl-cffi>=0.10.0->yahooquery) (2024.7.4)\n",
      "Requirement already satisfied: numpy>=1.26.0 in d:\\anaconda3\\lib\\site-packages (from pandas>=2.2.0->yahooquery) (1.26.4)\n",
      "Requirement already satisfied: python-dateutil>=2.8.2 in d:\\anaconda3\\lib\\site-packages (from pandas>=2.2.0->yahooquery) (2.9.0.post0)\n",
      "Requirement already satisfied: pytz>=2020.1 in d:\\anaconda3\\lib\\site-packages (from pandas>=2.2.0->yahooquery) (2024.1)\n",
      "Requirement already satisfied: tzdata>=2022.7 in d:\\anaconda3\\lib\\site-packages (from pandas>=2.2.0->yahooquery) (2023.3)\n",
      "Requirement already satisfied: requests>=1.2.0 in d:\\anaconda3\\lib\\site-packages (from requests-futures>=1.0.1->yahooquery) (2.32.2)\n",
      "Requirement already satisfied: colorama in d:\\anaconda3\\lib\\site-packages (from tqdm>=4.65.0->yahooquery) (0.4.6)\n",
      "Requirement already satisfied: pycparser in d:\\anaconda3\\lib\\site-packages (from cffi>=1.12.0->curl-cffi>=0.10.0->yahooquery) (2.21)\n",
      "Requirement already satisfied: six>=1.5 in d:\\anaconda3\\lib\\site-packages (from python-dateutil>=2.8.2->pandas>=2.2.0->yahooquery) (1.16.0)\n",
      "Requirement already satisfied: charset-normalizer<4,>=2 in d:\\anaconda3\\lib\\site-packages (from requests>=1.2.0->requests-futures>=1.0.1->yahooquery) (2.0.4)\n",
      "Requirement already satisfied: idna<4,>=2.5 in d:\\anaconda3\\lib\\site-packages (from requests>=1.2.0->requests-futures>=1.0.1->yahooquery) (3.7)\n",
      "Requirement already satisfied: urllib3<3,>=1.21.1 in d:\\anaconda3\\lib\\site-packages (from requests>=1.2.0->requests-futures>=1.0.1->yahooquery) (2.2.2)\n"
     ]
    }
   ],
   "source": [
    "!pip install yahooquery"
   ]
  },
  {
   "cell_type": "code",
   "execution_count": 3,
   "metadata": {},
   "outputs": [],
   "source": [
    "import yfinance as yf\n",
    "import pandas as pd\n",
    "import numpy as np\n",
    "import torch\n",
    "import torch.nn as nn\n",
    "import torchsde\n",
    "import matplotlib.pyplot as plt\n",
    "from fredapi import Fred\n"
   ]
  },
  {
   "cell_type": "markdown",
   "metadata": {},
   "source": [
    "API: eceed27c47582f947792a9947d285202"
   ]
  },
  {
   "cell_type": "code",
   "execution_count": 4,
   "metadata": {},
   "outputs": [],
   "source": [
    "# === 配置 ===\n",
    "FRED_API_KEY = \"eceed27c47582f947792a9947d285202\"  # 替换成你的FRED key\n",
    "fred = Fred(api_key=FRED_API_KEY)\n"
   ]
  },
  {
   "cell_type": "code",
   "execution_count": 5,
   "metadata": {},
   "outputs": [
    {
     "name": "stdout",
     "output_type": "stream",
     "text": [
      "Requirement already satisfied: alpha_vantage in d:\\anaconda3\\lib\\site-packages (3.0.0)\n",
      "Requirement already satisfied: aiohttp in d:\\anaconda3\\lib\\site-packages (from alpha_vantage) (3.9.5)\n",
      "Requirement already satisfied: requests in d:\\anaconda3\\lib\\site-packages (from alpha_vantage) (2.32.2)\n",
      "Requirement already satisfied: aiosignal>=1.1.2 in d:\\anaconda3\\lib\\site-packages (from aiohttp->alpha_vantage) (1.2.0)\n",
      "Requirement already satisfied: attrs>=17.3.0 in d:\\anaconda3\\lib\\site-packages (from aiohttp->alpha_vantage) (24.2.0)\n",
      "Requirement already satisfied: frozenlist>=1.1.1 in d:\\anaconda3\\lib\\site-packages (from aiohttp->alpha_vantage) (1.4.0)\n",
      "Requirement already satisfied: multidict<7.0,>=4.5 in d:\\anaconda3\\lib\\site-packages (from aiohttp->alpha_vantage) (6.0.4)\n",
      "Requirement already satisfied: yarl<2.0,>=1.0 in d:\\anaconda3\\lib\\site-packages (from aiohttp->alpha_vantage) (1.9.3)\n",
      "Requirement already satisfied: charset-normalizer<4,>=2 in d:\\anaconda3\\lib\\site-packages (from requests->alpha_vantage) (2.0.4)\n",
      "Requirement already satisfied: idna<4,>=2.5 in d:\\anaconda3\\lib\\site-packages (from requests->alpha_vantage) (3.7)\n",
      "Requirement already satisfied: urllib3<3,>=1.21.1 in d:\\anaconda3\\lib\\site-packages (from requests->alpha_vantage) (2.2.2)\n",
      "Requirement already satisfied: certifi>=2017.4.17 in d:\\anaconda3\\lib\\site-packages (from requests->alpha_vantage) (2024.7.4)\n"
     ]
    }
   ],
   "source": [
    "!pip install alpha_vantage"
   ]
  },
  {
   "cell_type": "code",
   "execution_count": 6,
   "metadata": {},
   "outputs": [],
   "source": [
    "from alpha_vantage.timeseries import TimeSeries as ts\n",
    "api_key = \"你的API密钥\"\n"
   ]
  },
  {
   "cell_type": "code",
   "execution_count": 7,
   "metadata": {},
   "outputs": [
    {
     "name": "stdout",
     "output_type": "stream",
     "text": [
      "✅ VIX 数据加载完成\n",
      "✅ SPY 数据加载完成\n",
      "✅ AAPL 数据加载完成\n"
     ]
    }
   ],
   "source": [
    "import os\n",
    "\n",
    "start_date = \"2013-06-01\"\n",
    "end_date = \"2025-05-31\"\n",
    "\n",
    "FRED_API_KEY = \"eceed27c47582f947792a9947d285202\"  # 替换为你的\n",
    "fred = Fred(api_key=FRED_API_KEY)\n",
    "# ========== 创建数据文件夹 ==========\n",
    "os.makedirs(\"data_cache\", exist_ok=True)\n",
    "\n",
    "# ========== 1. 获取并保存 VIX ==========\n",
    "vix_path = \"data_cache/vix.csv\"\n",
    "if os.path.exists(vix_path):\n",
    "    vix = pd.read_csv(vix_path, index_col=0, parse_dates=True)\n",
    "else:\n",
    "    vix_series = fred.get_series(\"VIXCLS\", start_date=start_date, end_date=end_date)\n",
    "    vix = pd.DataFrame(vix_series, columns=[\"vix\"])\n",
    "    vix.index.name = \"date\"\n",
    "    vix.to_csv(vix_path)\n",
    "print(\"✅ VIX 数据加载完成\")\n",
    "\n",
    "# ========== 2. 获取并保存 SPY ==========\n",
    "spy_path = \"data_cache/spy.csv\"\n",
    "if os.path.exists(spy_path):\n",
    "    spy = pd.read_csv(spy_path, index_col=0, parse_dates=True)\n",
    "else:\n",
    "    try:\n",
    "        print(f\"开始下载 spy 历史数据...\")\n",
    "        spy, meta_spy = ts.get_daily(symbol='spy', outputsize='full')\n",
    "        spy.columns = ['open', 'high', 'low', 'close', 'volume']\n",
    "        spy.index = pd.to_datetime(spy.index)\n",
    "        spy.sort_index(inplace=True)\n",
    "        spy = spy.loc[start_date: end_date]\n",
    "        spy = spy[[\"close\"]].rename(columns={\"close\": name})\n",
    "        spy.to_csv(spy_path)\n",
    "        print(f\"✅ spy 下载成功\")\n",
    "    except Exception as e:\n",
    "        print(f\"❌ 下载失败 spy:\", e)\n",
    "print(\"✅ SPY 数据加载完成\")\n",
    "\n",
    "# ========== 3. 获取并保存 AAPL ==========\n",
    "aapl_path = \"data_cache/aapl.csv\"\n",
    "if os.path.exists(aapl_path):\n",
    "    aapl = pd.read_csv(aapl_path, index_col=0, parse_dates=True)\n",
    "else:\n",
    "    try:\n",
    "        print(f\"开始下载 aapl 历史数据...\")\n",
    "        aapl, meta = ts.get_daily(symbol='aapl', outputsize='full')\n",
    "        aapl.columns = ['open', 'high', 'low', 'close', 'volume']\n",
    "        aapl.index = pd.to_datetime(aapl.index)\n",
    "        aapl.sort_index(inplace=True)\n",
    "        aapl = aapl.loc[start_date: end_date]\n",
    "        aapl = aapl[[\"close\"]].rename(columns={\"close\": name})\n",
    "        aapl.to_csv(aapl_path)\n",
    "        print(f\"✅ aapl 下载成功\")\n",
    "    except Exception as e:\n",
    "        print(f\"❌ 下载失败 aapl:\", e)\n",
    "print(\"✅ AAPL 数据加载完成\")\n"
   ]
  },
  {
   "cell_type": "code",
   "execution_count": 8,
   "metadata": {},
   "outputs": [
    {
     "name": "stdout",
     "output_type": "stream",
     "text": [
      "Requirement already satisfied: pycoingecko in d:\\anaconda3\\lib\\site-packages (3.2.0)\n",
      "Requirement already satisfied: requests in d:\\anaconda3\\lib\\site-packages (from pycoingecko) (2.32.2)\n",
      "Requirement already satisfied: charset-normalizer<4,>=2 in d:\\anaconda3\\lib\\site-packages (from requests->pycoingecko) (2.0.4)\n",
      "Requirement already satisfied: idna<4,>=2.5 in d:\\anaconda3\\lib\\site-packages (from requests->pycoingecko) (3.7)\n",
      "Requirement already satisfied: urllib3<3,>=1.21.1 in d:\\anaconda3\\lib\\site-packages (from requests->pycoingecko) (2.2.2)\n",
      "Requirement already satisfied: certifi>=2017.4.17 in d:\\anaconda3\\lib\\site-packages (from requests->pycoingecko) (2024.7.4)\n"
     ]
    }
   ],
   "source": [
    "!pip install pycoingecko"
   ]
  },
  {
   "cell_type": "code",
   "execution_count": 9,
   "metadata": {},
   "outputs": [],
   "source": [
    "from alpha_vantage.cryptocurrencies import CryptoCurrencies\n",
    "start_date = \"2013-06-01\"\n",
    "end_date = \"2025-05-31\"\n",
    "cc = CryptoCurrencies(key=api_key, output_format='pandas')\n",
    "name = \"bitcoin\"\n",
    "btc_path = \"data_cache/bitcoin.csv\"\n",
    "if os.path.exists(btc_path):\n",
    "    bitcoin = pd.read_csv(btc_path, index_col=0, parse_dates=True)\n",
    "else:\n",
    "    try:\n",
    "        print(f\"开始下载 {name} 历史数据...\")\n",
    "        bitcoin, meta = cc.get_digital_currency_daily(symbol='BTC', market='USD')\n",
    "        bitcoin.columns = [col.lower().split('. ')[-1] for col in bitcoin.columns]\n",
    "        bitcoin.index = pd.to_datetime(bitcoin.index)\n",
    "        bitcoin.sort_index(inplace=True)\n",
    "        bitcoin = bitcoin.loc[start_date:end_date]\n",
    "        bitcoin = bitcoin[[\"close\"]].rename(columns={\"close\": name})\n",
    "        bitcoin.to_csv(btc_path)\n",
    "        print(f\"✅ {name.upper()} 下载成功\")\n",
    "    except Exception as e:\n",
    "        print(f\"❌ 下载失败 {name}:\", e)"
   ]
  },
  {
   "cell_type": "code",
   "execution_count": 10,
   "metadata": {},
   "outputs": [
    {
     "name": "stdout",
     "output_type": "stream",
     "text": [
      "开始下载 bitcoin 历史数据（CoinGecko）...\n",
      "❌ 下载失败 bitcoin: {'error': {'status': {'timestamp': '2025-06-20T19:50:38.783+00:00', 'error_code': 10012, 'error_message': 'Your request exceeds the allowed time range. Public API users are limited to querying historical data within the past 365 days. Upgrade to a paid plan to enjoy full historical data access: https://www.coingecko.com/en/api/pricing. '}}}\n",
      "✅ BITCOIN 数据加载完成\n"
     ]
    }
   ],
   "source": [
    "from pycoingecko import CoinGeckoAPI\n",
    "import pandas as pd\n",
    "import time\n",
    "\n",
    "\n",
    "bitcoin_path = \"data_cache/bitcoinnew.csv\"\n",
    "start_date = \"2013-06-01\"\n",
    "end_date = \"2025-05-31\"\n",
    "name = \"bitcoin\"\n",
    "\n",
    "if os.path.exists(bitcoin_path):\n",
    "    bitcoin = pd.read_csv(bitcoin_path, index_col=0, parse_dates=True)\n",
    "else:\n",
    "    try:\n",
    "        print(f\"开始下载 {name} 历史数据（CoinGecko）...\")\n",
    "        cg = CoinGeckoAPI()\n",
    "\n",
    "        # 转换为UNIX时间戳\n",
    "        from_timestamp = int(pd.Timestamp(start_date).timestamp())\n",
    "        to_timestamp = int(pd.Timestamp(end_date).timestamp())\n",
    "\n",
    "        data = cg.get_coin_market_chart_range_by_id(\n",
    "            id='bitcoin',\n",
    "            vs_currency='usd',\n",
    "            from_timestamp=from_timestamp,\n",
    "            to_timestamp=to_timestamp\n",
    "        )\n",
    "\n",
    "        prices = data['prices']\n",
    "        df = pd.DataFrame(prices, columns=['timestamp', 'price'])\n",
    "        df['date'] = pd.to_datetime(df['timestamp'], unit='ms')\n",
    "        df.set_index('date', inplace=True)\n",
    "        bitcoin = df[['price']].rename(columns={'price': name})\n",
    "\n",
    "        # 保存缓存\n",
    "        os.makedirs(\"data_cache\", exist_ok=True)\n",
    "        bitcoin.to_csv(bitcoin_path)\n",
    "        print(f\"✅ {name.upper()} 下载成功\")\n",
    "\n",
    "    except Exception as e:\n",
    "        print(f\"❌ 下载失败 {name}:\", e)\n",
    "\n",
    "print(f\"✅ {name.upper()} 数据加载完成\")"
   ]
  },
  {
   "cell_type": "code",
   "execution_count": 11,
   "metadata": {},
   "outputs": [
    {
     "name": "stdout",
     "output_type": "stream",
     "text": [
      "              vix\n",
      "date             \n",
      "2013-06-03  16.28\n",
      "2013-06-04  16.27\n",
      "2013-06-05  17.50\n",
      "2013-06-06  16.63\n",
      "2013-06-07  15.14\n",
      "              aapl\n",
      "date              \n",
      "2013-06-03  164.35\n",
      "2013-06-04  163.56\n",
      "2013-06-05  161.27\n",
      "2013-06-06  162.73\n",
      "2013-06-07  164.80\n"
     ]
    }
   ],
   "source": [
    "vix = vix[vix.index >= start_date]\n",
    "print(vix.head())\n",
    "print(spy.head())"
   ]
  },
  {
   "cell_type": "code",
   "execution_count": null,
   "metadata": {},
   "outputs": [],
   "source": []
  },
  {
   "cell_type": "code",
   "execution_count": 12,
   "metadata": {},
   "outputs": [
    {
     "name": "stdout",
     "output_type": "stream",
     "text": [
      "               spy    vix     aapl\n",
      "date                              \n",
      "2013-06-03  164.35  16.28  450.720\n",
      "2013-06-04  163.56  16.27  449.310\n",
      "2013-06-05  161.27  17.50  445.110\n",
      "2013-06-06  162.73  16.63  438.460\n",
      "2013-06-07  164.80  15.14  441.811\n",
      "               spy    vix    aapl\n",
      "date                             \n",
      "2025-05-23  579.11  22.29  195.27\n",
      "2025-05-27  591.15  18.96  200.21\n",
      "2025-05-28  587.73  19.31  200.42\n",
      "2025-05-29  590.05  19.18  199.95\n",
      "2025-05-30  589.39  18.57  200.85\n"
     ]
    }
   ],
   "source": [
    "df_stocks = pd.read_csv(\"data_cache/df.csv\", index_col=0, parse_dates=True)\n",
    "print(df_stocks.head())\n",
    "print(df_stocks.tail())"
   ]
  },
  {
   "cell_type": "markdown",
   "metadata": {},
   "source": [
    "## 以下是宏观经济数据\n",
    "\n",
    "### EPU"
   ]
  },
  {
   "cell_type": "code",
   "execution_count": 13,
   "metadata": {},
   "outputs": [
    {
     "name": "stdout",
     "output_type": "stream",
     "text": [
      "EPU Index 数据预览：             day  month  year  daily_policy_index\n",
      "date                                            \n",
      "2013-06-01    1      6  2013           -0.568632\n",
      "2013-06-02    2      6  2013           -0.592437\n",
      "2013-06-03    3      6  2013           -0.416366\n",
      "2013-06-04    4      6  2013           -0.635633\n",
      "2013-06-05    5      6  2013           -0.613473\n"
     ]
    }
   ],
   "source": [
    "# === 2. EPU Index ===\n",
    "epu_us = pd.read_csv(\"data/All_Daily_Policy_Data.csv\")\n",
    "epu_us[\"date\"] = pd.to_datetime(epu_us[[\"year\", \"month\", \"day\"]])\n",
    "epu_us = epu_us.sort_values(\"date\")\n",
    "\n",
    "# 过滤出 2014-06-01 之后的数据\n",
    "epu_us = epu_us[epu_us[\"date\"] >= pd.Timestamp(\"2013-06-01\")]\n",
    "epu_us = epu_us.set_index(\"date\")\n",
    "# 这里有一个归一化，如果去掉会怎么样呢？\n",
    "epu_us[\"daily_policy_index\"] = (epu_us[\"daily_policy_index\"] - epu_us[\"daily_policy_index\"].mean()) / epu_us[\"daily_policy_index\"].std()\n",
    "print(\"EPU Index 数据预览：\", epu_us.head())"
   ]
  },
  {
   "cell_type": "markdown",
   "metadata": {},
   "source": [
    "### CCI"
   ]
  },
  {
   "cell_type": "code",
   "execution_count": 14,
   "metadata": {},
   "outputs": [
    {
     "name": "stdout",
     "output_type": "stream",
     "text": [
      "✅ 成功保存为 cci_index.csv\n",
      "      cci    month\n",
      "655  74.0  2024-12\n",
      "656  71.7  2025-01\n",
      "657  64.7  2025-02\n",
      "658  57.0  2025-03\n",
      "659  52.2  2025-04\n"
     ]
    }
   ],
   "source": [
    "import pandas as pd\n",
    "import yfinance as yf\n",
    "from fredapi import Fred\n",
    "\n",
    "# === 配置 ===\n",
    "FRED_API_KEY = \"eceed27c47582f947792a9947d285202\"  # 替换成你的FRED key\n",
    "fred = Fred(api_key=FRED_API_KEY)\n",
    "\n",
    "# === 获取 CCI 数据 ===\n",
    "cci = fred.get_series(\"UMCSENT\")  # University of Michigan Consumer Sentiment\n",
    "\n",
    "# === 处理成月度数据 ===\n",
    "cci = cci.resample(\"ME\").last().dropna()\n",
    "cci_df = cci.to_frame(\"cci\")  # 转为DataFrame\n",
    "cci_df[\"month\"] = cci_df.index.to_period(\"M\").astype(str)\n",
    "cci_df = cci_df.reset_index(drop=True)\n",
    "\n",
    "# === 保存为 CSV 文件 ===\n",
    "cci_df.to_csv(\"data_cache/cci_index.csv\", index=False)\n",
    "print(\"✅ 成功保存为 cci_index.csv\")\n",
    "print(cci_df.tail())\n"
   ]
  },
  {
   "cell_type": "code",
   "execution_count": 15,
   "metadata": {},
   "outputs": [
    {
     "name": "stdout",
     "output_type": "stream",
     "text": [
      "📂 已检测到 cci_index.csv，读取中...\n",
      "    cci    month\n",
      "0  84.1  2013-06\n",
      "1  85.1  2013-07\n",
      "2  82.1  2013-08\n",
      "3  77.5  2013-09\n",
      "4  73.2  2013-10\n"
     ]
    }
   ],
   "source": [
    "from pathlib import Path\n",
    "cci_csv_path = Path(\"data_cache/cci_index.csv\")\n",
    "\n",
    "if cci_csv_path.exists():\n",
    "    print(\"📂 已检测到 cci_index.csv，读取中...\")\n",
    "    cci_df = pd.read_csv(cci_csv_path)\n",
    "else:\n",
    "    print(\"📂 未检测到 cci_index.csv.\")\n",
    "\n",
    "start_month = \"2013-06\"\n",
    "end_month = \"2024-05\"\n",
    "\n",
    "cci_df = cci_df[(cci_df[\"month\"] >= start_month) & (cci_df[\"month\"] <= end_month)]\n",
    "cci_df = cci_df.reset_index(drop=True)\n",
    "\n",
    "print(cci_df.head())\n",
    "    "
   ]
  },
  {
   "cell_type": "markdown",
   "metadata": {},
   "source": [
    "### Treasury ETFs\n",
    "- TLT（iShares 20+ Year Treasury Bond ETF）\n",
    "  - 投资标的：美国长期国债，期限一般是20年以上的国债。\n",
    "  - 特点：\n",
    "    - 持有期限最长，波动性较大；\n",
    "    - 对利率变化非常敏感；\n",
    "    - 收益率通常较高，因为长期债券利率更高\n",
    "\n",
    "- IEF（iShares 7-10 Year Treasury Bond ETF）\n",
    "  - 投资标的：中期美国国债，期限一般在7到10年之间。\n",
    "  - 特点：\n",
    "    - 风险和收益介于长期和短期债券之间；\n",
    "    - 价格对利率变化的敏感度适中；\n",
    "    - 收益和波动较TLT低，但高于SHY\n",
    "\n",
    "- SHY（iShares 1-3 Year Treasury Bond ETF）\n",
    "  - 投资标的：短期美国国债，期限为1至3年。\n",
    "  - 特点：\n",
    "    - 风险最低，波动小；\n",
    "    - 收益较低，但流动性好；\n",
    "    - 对利率变动敏感度最低"
   ]
  },
  {
   "cell_type": "code",
   "execution_count": 16,
   "metadata": {},
   "outputs": [
    {
     "name": "stdout",
     "output_type": "stream",
     "text": [
      "📂 已检测到 bond_etf_prices_alpha.csv，读取中...\n",
      "         date  TLT_close  IEF_close  SHY_close\n",
      "0  2013-06-03     114.78     105.33      84.39\n",
      "1  2013-06-04     113.72     105.06      84.39\n",
      "2  2013-06-05     115.29     105.57      84.40\n",
      "3  2013-06-06     115.22     105.70      84.39\n",
      "4  2013-06-07     113.16     104.88      84.38\n"
     ]
    }
   ],
   "source": [
    "from alpha_vantage.timeseries import TimeSeries\n",
    "import pandas as pd\n",
    "\n",
    "api_key = \"你的API密钥\"\n",
    "ts = TimeSeries(key=api_key, output_format='pandas')\n",
    "\n",
    "\n",
    "etfs = [\"TLT\", \"IEF\", \"SHY\"]\n",
    "etf_data = {}\n",
    "\n",
    "\n",
    "def download_treasury_etf(symbol, start_date, end_date):\n",
    "    for symbol in etfs:\n",
    "        print(f\"📥 正在下载 {symbol}...\")\n",
    "        data, _ = ts.get_daily(symbol=symbol, outputsize='full')\n",
    "        data = data.rename(columns={\n",
    "            \"1. open\": \"open\",\n",
    "            \"2. high\": \"high\",\n",
    "            \"3. low\": \"low\",\n",
    "            \"4. close\": f\"{symbol}_close\",\n",
    "            \"5. volume\": \"volume\"\n",
    "        })\n",
    "        data.index = pd.to_datetime(data.index)\n",
    "        data = data[[f\"{symbol}_close\"]].sort_index()\n",
    "        etf_data[symbol] = data\n",
    "\n",
    "# 合并3个ETF的收盘价\n",
    "    df = etf_data[\"TLT\"].join(etf_data[\"IEF\"]).join(etf_data[\"SHY\"])\n",
    "    df = df.loc[\"2013-06-01\":\"2024-05-31\"]\n",
    "    df.to_csv(\"data_cache/bond_etf_prices_alpha.csv\")\n",
    "    print(\"✅ 保存为 bond_etf_prices_alpha.csv\")\n",
    "    print(df.tail())\n",
    "\n",
    "\n",
    "treasuries_path = \"data_cache/bond_etf_prices_alpha.csv\"\n",
    "if Path(treasuries_path).exists():\n",
    "    print(\"📂 已检测到 bond_etf_prices_alpha.csv，读取中...\")\n",
    "    etf_data = pd.read_csv(\"data_cache/bond_etf_prices_alpha.csv\")\n",
    "    print(etf_data.head())\n",
    "else:\n",
    "    print(\"📂 未检测到 bond_etf_prices_alpha.csv，开始下载数据...\")\n"
   ]
  },
  {
   "cell_type": "code",
   "execution_count": 17,
   "metadata": {},
   "outputs": [
    {
     "name": "stdout",
     "output_type": "stream",
     "text": [
      "            TLT_close  IEF_close  SHY_close\n",
      "date                                       \n",
      "2013-06-03     114.78     105.33      84.39\n",
      "2013-06-04     113.72     105.06      84.39\n",
      "2013-06-05     115.29     105.57      84.40\n",
      "2013-06-06     115.22     105.70      84.39\n",
      "2013-06-07     113.16     104.88      84.38\n"
     ]
    }
   ],
   "source": [
    "treasury_etf = etf_data.copy()\n",
    "\n",
    "# 确保索引是日期格式\n",
    "treasury_etf = treasury_etf.set_index(treasury_etf['date'], drop=True)\n",
    "treasury_etf = treasury_etf.drop(columns=['date'])\n",
    "print(treasury_etf.head())\n",
    "\n"
   ]
  },
  {
   "cell_type": "code",
   "execution_count": 18,
   "metadata": {},
   "outputs": [
    {
     "name": "stdout",
     "output_type": "stream",
     "text": [
      "📂 已检测到 jobless_claims.csv，读取中...\n",
      "   jobless_claims    month\n",
      "0        345750.0  2013-06\n",
      "1        344800.0  2013-07\n",
      "2        335500.0  2013-08\n",
      "3        316200.0  2013-09\n",
      "4        358500.0  2013-10\n",
      "     jobless_claims    month\n",
      "127        207600.0  2024-01\n",
      "128        210750.0  2024-02\n",
      "129        213000.0  2024-03\n",
      "130        212800.0  2024-04\n",
      "131        222000.0  2024-05\n"
     ]
    }
   ],
   "source": [
    "# === 6. 初请失业金人数（ICSA）===\n",
    "\n",
    "claims_csv_path = Path(\"data_cache/jobless_claims.csv\")\n",
    "\n",
    "def download_jobless_claims():\n",
    "    print(\"🔄 下载初请失业金人数（ICSA）...\")\n",
    "    claims = fred.get_series(\"ICSA\")  # 每周四发布\n",
    "    claims = claims.resample(\"W-MON\").mean().dropna()  # 周频 → 对齐为每周一\n",
    "    claims = claims.resample(\"M\").mean()  # 月平均\n",
    "    claims_df = claims.to_frame(\"jobless_claims\")\n",
    "    claims_df[\"month\"] = claims_df.index.to_period(\"M\").astype(str)\n",
    "    claims_df = claims_df.reset_index(drop=True)\n",
    "    claims_df.to_csv(claims_csv_path, index=False)\n",
    "    print(\"✅ 成功保存为 jobless_claims.csv\")\n",
    "    return claims_df\n",
    "\n",
    "# === 主逻辑：判断文件是否存在 ===\n",
    "if claims_csv_path.exists():\n",
    "    print(\"📂 已检测到 jobless_claims.csv，读取中...\")\n",
    "    claims_df = pd.read_csv(claims_csv_path)\n",
    "else:\n",
    "    claims_df = download_jobless_claims()\n",
    "\n",
    "claims_df = claims_df[(claims_df[\"month\"] >= start_month) & (claims_df[\"month\"] <= end_month)]\n",
    "claims_df = claims_df.reset_index(drop=True)\n",
    "\n",
    "print(claims_df.head())\n",
    "print(claims_df.tail())"
   ]
  },
  {
   "cell_type": "markdown",
   "metadata": {},
   "source": [
    "## 数据处理"
   ]
  },
  {
   "cell_type": "markdown",
   "metadata": {},
   "source": [
    "我们接下来要合并所有的数据：\n",
    "- spy: sp500指数（每交易日）\n",
    "- vix：每交易日\n",
    "- aapl：苹果股价（每交易日）\n",
    "- 以上三个合并为一个dataframe：df_stocks, index是date，其他列名是spy, vix, aapl\n",
    "- epu_us：每月，索引为从0开始的数字\n",
    "- CCI：每月，索引是从0开始的数字\n",
    "- 国债价格（每交易日），索引是从0开始的数字，其他列是date, TLT_close, IEF_close, SHY_close\n",
    "- ICSA: 失业金人数（每月），索引是从0开始的数字"
   ]
  },
  {
   "cell_type": "code",
   "execution_count": 19,
   "metadata": {},
   "outputs": [
    {
     "data": {
      "text/html": [
       "<div>\n",
       "<style scoped>\n",
       "    .dataframe tbody tr th:only-of-type {\n",
       "        vertical-align: middle;\n",
       "    }\n",
       "\n",
       "    .dataframe tbody tr th {\n",
       "        vertical-align: top;\n",
       "    }\n",
       "\n",
       "    .dataframe thead th {\n",
       "        text-align: right;\n",
       "    }\n",
       "</style>\n",
       "<table border=\"1\" class=\"dataframe\">\n",
       "  <thead>\n",
       "    <tr style=\"text-align: right;\">\n",
       "      <th></th>\n",
       "      <th>spy</th>\n",
       "      <th>vix</th>\n",
       "      <th>aapl</th>\n",
       "    </tr>\n",
       "    <tr>\n",
       "      <th>date</th>\n",
       "      <th></th>\n",
       "      <th></th>\n",
       "      <th></th>\n",
       "    </tr>\n",
       "  </thead>\n",
       "  <tbody>\n",
       "    <tr>\n",
       "      <th>2013-06-03</th>\n",
       "      <td>164.35</td>\n",
       "      <td>16.28</td>\n",
       "      <td>450.720</td>\n",
       "    </tr>\n",
       "    <tr>\n",
       "      <th>2013-06-04</th>\n",
       "      <td>163.56</td>\n",
       "      <td>16.27</td>\n",
       "      <td>449.310</td>\n",
       "    </tr>\n",
       "    <tr>\n",
       "      <th>2013-06-05</th>\n",
       "      <td>161.27</td>\n",
       "      <td>17.50</td>\n",
       "      <td>445.110</td>\n",
       "    </tr>\n",
       "    <tr>\n",
       "      <th>2013-06-06</th>\n",
       "      <td>162.73</td>\n",
       "      <td>16.63</td>\n",
       "      <td>438.460</td>\n",
       "    </tr>\n",
       "    <tr>\n",
       "      <th>2013-06-07</th>\n",
       "      <td>164.80</td>\n",
       "      <td>15.14</td>\n",
       "      <td>441.811</td>\n",
       "    </tr>\n",
       "  </tbody>\n",
       "</table>\n",
       "</div>"
      ],
      "text/plain": [
       "               spy    vix     aapl\n",
       "date                              \n",
       "2013-06-03  164.35  16.28  450.720\n",
       "2013-06-04  163.56  16.27  449.310\n",
       "2013-06-05  161.27  17.50  445.110\n",
       "2013-06-06  162.73  16.63  438.460\n",
       "2013-06-07  164.80  15.14  441.811"
      ]
     },
     "execution_count": 19,
     "metadata": {},
     "output_type": "execute_result"
    }
   ],
   "source": [
    "df_stocks.head()"
   ]
  },
  {
   "cell_type": "markdown",
   "metadata": {},
   "source": [
    "### 处理EPU"
   ]
  },
  {
   "cell_type": "code",
   "execution_count": 20,
   "metadata": {},
   "outputs": [
    {
     "name": "stdout",
     "output_type": "stream",
     "text": [
      "            daily_policy_index\n",
      "date                          \n",
      "2013-06-01           -0.568632\n",
      "2013-06-02           -0.592437\n",
      "2013-06-03           -0.416366\n",
      "2013-06-04           -0.635633\n",
      "2013-06-05           -0.613473\n"
     ]
    }
   ],
   "source": [
    "epu_us.drop(columns=['year', 'month', 'day'], inplace=True)\n",
    "print(epu_us.head())\n"
   ]
  },
  {
   "cell_type": "code",
   "execution_count": 21,
   "metadata": {},
   "outputs": [
    {
     "name": "stdout",
     "output_type": "stream",
     "text": [
      "DatetimeIndex(['2013-06-03', '2013-06-03', '2013-06-03', '2013-06-04',\n",
      "               '2013-06-05', '2013-06-06', '2013-06-07', '2013-06-10',\n",
      "               '2013-06-10', '2013-06-10',\n",
      "               ...\n",
      "               '2025-05-21', '2025-05-22', '2025-05-23', '2025-05-27',\n",
      "               '2025-05-27', '2025-05-27', '2025-05-27', '2025-05-28',\n",
      "               '2025-05-29', '2025-05-30'],\n",
      "              dtype='datetime64[ns]', name='date', length=4382, freq=None)\n",
      "['2013-06-01T00:00:00.000000000' '2013-06-02T00:00:00.000000000'\n",
      " '2013-06-03T00:00:00.000000000' ... '2025-05-28T00:00:00.000000000'\n",
      " '2025-05-29T00:00:00.000000000' '2025-05-30T00:00:00.000000000']\n",
      "            daily_policy_index trading_date\n",
      "date                                       \n",
      "2013-06-01           -0.568632   2013-06-03\n",
      "2013-06-02           -0.592437   2013-06-03\n",
      "2013-06-03           -0.416366   2013-06-03\n",
      "2013-06-04           -0.635633   2013-06-04\n",
      "2013-06-05           -0.613473   2013-06-05\n"
     ]
    }
   ],
   "source": [
    "trading_days = pd.to_datetime(spy.index.unique()).sort_values()\n",
    "\n",
    "# 将原始 epu_us 的索引变成数组\n",
    "dates = epu_us.index.to_numpy()\n",
    "# 把每个日期映射到下一个交易日\n",
    "next_trading_idx = np.searchsorted(trading_days, dates, side='right')\n",
    "\n",
    "# 去掉落在最后一个交易日之后的数据\n",
    "next_trading_idx = np.where(\n",
    "    np.isin(dates, trading_days),\n",
    "    np.searchsorted(trading_days, dates, side='left'),   # 若是交易日 → 映射到自己\n",
    "    np.searchsorted(trading_days, dates, side='right')   # 若不是交易日 → 映射到下一个\n",
    ")\n",
    "valid_mask = next_trading_idx < len(trading_days)\n",
    "dates = dates[valid_mask]\n",
    "next_trading_dates = trading_days[next_trading_idx[valid_mask]]\n",
    "print(next_trading_dates)\n",
    "print(dates)\n",
    "\n",
    "# 把交易日标签加进 epu_us\n",
    "epu_valid = epu_us.iloc[valid_mask].copy()\n",
    "epu_valid['trading_date'] = next_trading_dates\n",
    "print(epu_valid.head())"
   ]
  },
  {
   "cell_type": "code",
   "execution_count": 22,
   "metadata": {},
   "outputs": [
    {
     "name": "stdout",
     "output_type": "stream",
     "text": [
      "            daily_policy_index\n",
      "date                          \n",
      "2013-06-03           -0.488425\n",
      "2013-06-04           -0.635633\n",
      "2013-06-05           -0.613473\n",
      "2013-06-06           -0.634854\n",
      "2013-06-07           -0.610356\n",
      "2013-06-10           -0.475724\n",
      "2013-06-11           -0.433073\n",
      "2013-06-12           -0.456619\n",
      "2013-06-13           -0.740981\n",
      "2013-06-14           -0.380962\n",
      "            daily_policy_index\n",
      "date                          \n",
      "2013-06-01           -0.568632\n",
      "2013-06-02           -0.592437\n",
      "2013-06-03           -0.416366\n",
      "2013-06-04           -0.635633\n",
      "2013-06-05           -0.613473\n",
      "2013-06-06           -0.634854\n",
      "2013-06-07           -0.610356\n",
      "2013-06-08           -0.280461\n",
      "2013-06-09           -0.533141\n",
      "2013-06-10           -0.495832\n"
     ]
    }
   ],
   "source": [
    "# 将 EPU 数据按交易日加权平均\n",
    "from collections import defaultdict\n",
    "\n",
    "weighted_data = defaultdict(list)\n",
    "\n",
    "# 将所有映射按交易日分组\n",
    "grouped = epu_valid.groupby('trading_date')\n",
    "\n",
    "for trade_date, group in grouped:\n",
    "    # 逆时间顺序排列（离交易日越近的在后）\n",
    "    group_sorted = group.sort_index()\n",
    "    N = len(group_sorted)\n",
    "    if N == 0:\n",
    "        continue\n",
    "\n",
    "    # 计算权重\n",
    "    weights = 2.0 ** (-np.arange(N, 0, -1))  # 2^{-n}\n",
    "    weights /= weights.sum()  # 归一化\n",
    "\n",
    "    # 加权平均\n",
    "    weighted_row = group_sorted['daily_policy_index'].values @ weights\n",
    "    weighted_data[trade_date] = weighted_row\n",
    "\n",
    "# 构建新的 DataFrame\n",
    "epu_weighted = pd.DataFrame.from_dict(weighted_data, orient='index')\n",
    "epu_weighted.index.name = 'date'\n",
    "epu_weighted['daily_policy_index'] = epu_weighted[0]\n",
    "epu_weighted.drop(columns=[0], inplace=True)\n",
    "print(epu_weighted.head(10))\n",
    "print(epu_us.head(10))\n"
   ]
  },
  {
   "cell_type": "markdown",
   "metadata": {},
   "source": [
    "### 合并所有按日数据"
   ]
  },
  {
   "cell_type": "code",
   "execution_count": 23,
   "metadata": {},
   "outputs": [
    {
     "name": "stdout",
     "output_type": "stream",
     "text": [
      "            TLT_close  IEF_close  SHY_close\n",
      "date                                       \n",
      "2013-06-03     114.78     105.33      84.39\n",
      "2013-06-04     113.72     105.06      84.39\n",
      "2013-06-05     115.29     105.57      84.40\n",
      "2013-06-06     115.22     105.70      84.39\n",
      "2013-06-07     113.16     104.88      84.38\n"
     ]
    }
   ],
   "source": [
    "print(treasury_etf.head())"
   ]
  },
  {
   "cell_type": "code",
   "execution_count": 24,
   "metadata": {},
   "outputs": [
    {
     "name": "stdout",
     "output_type": "stream",
     "text": [
      "df_stocks 日期范围: 2013-06-03 00:00:00 至 2025-05-30 00:00:00\n",
      "treasury_etf 日期范围: 2013-06-03 00:00:00 至 2024-05-31 00:00:00\n",
      "epu_weighted 日期范围: 2013-06-03 00:00:00 至 2025-05-30 00:00:00\n"
     ]
    }
   ],
   "source": [
    "df_stocks.index = pd.to_datetime(df_stocks.index)\n",
    "treasury_etf.index = pd.to_datetime(treasury_etf.index)\n",
    "epu_weighted.index = pd.to_datetime(epu_weighted.index)\n",
    "print(\"df_stocks 日期范围:\", df_stocks.index.min(), \"至\", df_stocks.index.max())\n",
    "print(\"treasury_etf 日期范围:\", treasury_etf.index.min(), \"至\", treasury_etf.index.max())\n",
    "print(\"epu_weighted 日期范围:\", epu_weighted.index.min(), \"至\", epu_weighted.index.max())"
   ]
  },
  {
   "cell_type": "code",
   "execution_count": 25,
   "metadata": {},
   "outputs": [
    {
     "name": "stdout",
     "output_type": "stream",
     "text": [
      "               spy    vix     aapl  TLT_close  IEF_close  SHY_close  \\\n",
      "date                                                                  \n",
      "2013-06-03  164.35  16.28  450.720     114.78     105.33      84.39   \n",
      "2013-06-04  163.56  16.27  449.310     113.72     105.06      84.39   \n",
      "2013-06-05  161.27  17.50  445.110     115.29     105.57      84.40   \n",
      "2013-06-06  162.73  16.63  438.460     115.22     105.70      84.39   \n",
      "2013-06-07  164.80  15.14  441.811     113.16     104.88      84.38   \n",
      "\n",
      "            daily_policy_index  \n",
      "date                            \n",
      "2013-06-03           -0.488425  \n",
      "2013-06-04           -0.635633  \n",
      "2013-06-05           -0.613473  \n",
      "2013-06-06           -0.634854  \n",
      "2013-06-07           -0.610356  \n"
     ]
    }
   ],
   "source": [
    "# 如果需要保留所有DataFrame的日期（外连接）\n",
    "combined_df_daily = df_stocks.join(treasury_etf, how='outer').join(epu_weighted, how='outer')\n",
    "print(combined_df_daily.head())\n"
   ]
  },
  {
   "cell_type": "markdown",
   "metadata": {},
   "source": [
    "### 合并所有按月数据，并把它扩展到日期"
   ]
  },
  {
   "cell_type": "code",
   "execution_count": 26,
   "metadata": {},
   "outputs": [
    {
     "name": "stdout",
     "output_type": "stream",
     "text": [
      "            1. Economic Policy Uncertainty  2. Monetary policy  \\\n",
      "month                                                            \n",
      "2025-01-01                      236.443423          222.125272   \n",
      "2025-02-01                      318.837077          228.811996   \n",
      "2025-03-01                      494.249657          448.739623   \n",
      "2025-04-01                      538.433330          455.731457   \n",
      "2025-05-01                      493.962321          439.673286   \n",
      "\n",
      "            Fiscal Policy (Taxes OR Spending)    3. Taxes  \\\n",
      "month                                                       \n",
      "2025-01-01                         291.740460  293.147286   \n",
      "2025-02-01                         366.303413  387.180674   \n",
      "2025-03-01                         625.949344  642.230552   \n",
      "2025-04-01                         691.046521  741.160008   \n",
      "2025-05-01                         616.298826  627.608290   \n",
      "\n",
      "            4. Government spending  5. Health care  6. National security  \\\n",
      "month                                                                      \n",
      "2025-01-01              208.068757      415.245874            159.322772   \n",
      "2025-02-01              324.818187      508.760703            302.749390   \n",
      "2025-03-01              526.668070      602.542923            646.921147   \n",
      "2025-04-01              371.414820      718.070232            768.876613   \n",
      "2025-05-01              618.755777      919.080065            555.083553   \n",
      "\n",
      "            7. Entitlement programs  8. Regulation  Financial Regulation  \\\n",
      "month                                                                      \n",
      "2025-01-01               448.625470     345.676119             97.223638   \n",
      "2025-02-01               517.893837     339.196747            258.087021   \n",
      "2025-03-01               749.046363     385.295367            409.310140   \n",
      "2025-04-01               689.847123     445.415016            404.678944   \n",
      "2025-05-01               977.991123     486.711466            143.936230   \n",
      "\n",
      "            9. Trade policy  10. Sovereign debt, currency crises  \n",
      "month                                                             \n",
      "2025-01-01      1725.709654                             9.806514  \n",
      "2025-02-01      2583.898793                           137.873636  \n",
      "2025-03-01      5912.107657                           119.772697  \n",
      "2025-04-01      7983.002740                           513.142554  \n",
      "2025-05-01      5846.736957                            88.110483  \n"
     ]
    }
   ],
   "source": [
    "cci_categorical = pd.read_csv(\"data/Categorical_EPU_Data.csv\")\n",
    "cci_categorical['month'] = pd.to_datetime(cci_categorical[['Year', 'Month']].assign(day=1))\n",
    "# 设置month列为索引\n",
    "cci_categorical.set_index('month', inplace=True)\n",
    "\n",
    "# 删除原有的year和month列（可选）\n",
    "cci_categorical.drop(['Year', 'Month'], axis=1, inplace=True)\n",
    "cci_categorical = cci_categorical.dropna(how='any')\n",
    "print(cci_categorical.tail())\n"
   ]
  },
  {
   "cell_type": "code",
   "execution_count": 27,
   "metadata": {},
   "outputs": [
    {
     "name": "stdout",
     "output_type": "stream",
     "text": [
      "             cci  jobless_claims  1. Economic Policy Uncertainty  \\\n",
      "month                                                              \n",
      "2013-06-01  84.1        345750.0                       77.763068   \n",
      "2013-07-01  85.1        344800.0                       86.720342   \n",
      "2013-08-01  82.1        335500.0                       88.397501   \n",
      "2013-09-01  77.5        316200.0                      110.426863   \n",
      "2013-10-01  73.2        358500.0                      177.434558   \n",
      "\n",
      "            2. Monetary policy  Fiscal Policy (Taxes OR Spending)    3. Taxes  \\\n",
      "month                                                                           \n",
      "2013-06-01           55.337061                          79.968224   79.106660   \n",
      "2013-07-01           51.459549                          78.135821   76.875440   \n",
      "2013-08-01           76.712854                          85.880887   80.940342   \n",
      "2013-09-01           93.531160                         119.317584   96.734491   \n",
      "2013-10-01          159.456108                         268.619651  168.871768   \n",
      "\n",
      "            4. Government spending  5. Health care  6. National security  \\\n",
      "month                                                                      \n",
      "2013-06-01               57.108591      129.012863             36.726217   \n",
      "2013-07-01               71.349203      174.815843             91.145834   \n",
      "2013-08-01               91.502012      163.456771             59.246208   \n",
      "2013-09-01              184.602480      264.628980            109.370161   \n",
      "2013-10-01              582.407800      538.104709            109.681851   \n",
      "\n",
      "            7. Entitlement programs  8. Regulation  Financial Regulation  \\\n",
      "month                                                                      \n",
      "2013-06-01               124.731183      85.421317             89.548832   \n",
      "2013-07-01               108.335430     160.255392            153.359947   \n",
      "2013-08-01               133.086796     135.441567             72.307703   \n",
      "2013-09-01               135.746452     111.925691            100.571900   \n",
      "2013-10-01               357.254072     117.153650            111.088451   \n",
      "\n",
      "            9. Trade policy  10. Sovereign debt, currency crises  \n",
      "month                                                             \n",
      "2013-06-01        57.178886                            38.213961  \n",
      "2013-07-01        52.832340                            15.468733  \n",
      "2013-08-01        33.213236                           109.400326  \n",
      "2013-09-01        84.692455                            74.391082  \n",
      "2013-10-01        15.591422                            95.864965  \n"
     ]
    }
   ],
   "source": [
    "import pandas as pd\n",
    "\n",
    "# 复制原始数据（避免修改原DataFrame）\n",
    "cci_df_converted = cci_df.copy()\n",
    "claims_df_converted = claims_df.copy()\n",
    "\n",
    "\n",
    "# 将month列转换为datetime类型（格式为YYYY-MM）\n",
    "cci_df_converted['month'] = pd.to_datetime(cci_df_converted['month'], format='%Y-%m')\n",
    "claims_df_converted['month'] = pd.to_datetime(claims_df_converted['month'], format='%Y-%m')\n",
    "\n",
    "# 设置month列为索引\n",
    "cci_df_converted.set_index('month', inplace=True)\n",
    "claims_df_converted.set_index('month', inplace=True)\n",
    "\n",
    "combined_df_monthly = cci_df_converted.join(claims_df_converted).join(cci_categorical)\n",
    "print(combined_df_monthly.head())"
   ]
  },
  {
   "cell_type": "code",
   "execution_count": 28,
   "metadata": {},
   "outputs": [],
   "source": [
    "combined_df_monthly.to_csv(\"data_cache/combined_monthly_data.csv\")"
   ]
  },
  {
   "cell_type": "code",
   "execution_count": 29,
   "metadata": {},
   "outputs": [
    {
     "name": "stdout",
     "output_type": "stream",
     "text": [
      "               spy    vix       aapl  TLT_close  IEF_close  SHY_close  \\\n",
      "date                                                                    \n",
      "2013-06-03  164.35  16.28  16.097143     114.78     105.33      84.39   \n",
      "2013-06-04  163.56  16.27  16.046786     113.72     105.06      84.39   \n",
      "2013-06-05  161.27  17.50  15.896786     115.29     105.57      84.40   \n",
      "2013-06-06  162.73  16.63  15.659286     115.22     105.70      84.39   \n",
      "2013-06-07  164.80  15.14  15.778964     113.16     104.88      84.38   \n",
      "\n",
      "            daily_policy_index   cci  jobless_claims  \\\n",
      "date                                                   \n",
      "2013-06-03           -0.488425  84.1        345750.0   \n",
      "2013-06-04           -0.635633  84.1        345750.0   \n",
      "2013-06-05           -0.613473  84.1        345750.0   \n",
      "2013-06-06           -0.634854  84.1        345750.0   \n",
      "2013-06-07           -0.610356  84.1        345750.0   \n",
      "\n",
      "            1. Economic Policy Uncertainty  ...  \\\n",
      "date                                        ...   \n",
      "2013-06-03                       77.763068  ...   \n",
      "2013-06-04                       77.763068  ...   \n",
      "2013-06-05                       77.763068  ...   \n",
      "2013-06-06                       77.763068  ...   \n",
      "2013-06-07                       77.763068  ...   \n",
      "\n",
      "            Fiscal Policy (Taxes OR Spending)  3. Taxes  \\\n",
      "date                                                      \n",
      "2013-06-03                          79.968224  79.10666   \n",
      "2013-06-04                          79.968224  79.10666   \n",
      "2013-06-05                          79.968224  79.10666   \n",
      "2013-06-06                          79.968224  79.10666   \n",
      "2013-06-07                          79.968224  79.10666   \n",
      "\n",
      "            4. Government spending  5. Health care  6. National security  \\\n",
      "date                                                                       \n",
      "2013-06-03               57.108591      129.012863             36.726217   \n",
      "2013-06-04               57.108591      129.012863             36.726217   \n",
      "2013-06-05               57.108591      129.012863             36.726217   \n",
      "2013-06-06               57.108591      129.012863             36.726217   \n",
      "2013-06-07               57.108591      129.012863             36.726217   \n",
      "\n",
      "            7. Entitlement programs  8. Regulation  Financial Regulation  \\\n",
      "date                                                                       \n",
      "2013-06-03               124.731183      85.421317             89.548832   \n",
      "2013-06-04               124.731183      85.421317             89.548832   \n",
      "2013-06-05               124.731183      85.421317             89.548832   \n",
      "2013-06-06               124.731183      85.421317             89.548832   \n",
      "2013-06-07               124.731183      85.421317             89.548832   \n",
      "\n",
      "            9. Trade policy  10. Sovereign debt, currency crises  \n",
      "date                                                              \n",
      "2013-06-03        57.178886                            38.213961  \n",
      "2013-06-04        57.178886                            38.213961  \n",
      "2013-06-05        57.178886                            38.213961  \n",
      "2013-06-06        57.178886                            38.213961  \n",
      "2013-06-07        57.178886                            38.213961  \n",
      "\n",
      "[5 rows x 21 columns]\n"
     ]
    }
   ],
   "source": [
    "combined_df_daily = pd.concat([combined_df_daily, combined_df_monthly.reindex(combined_df_daily.index, method='ffill')], axis=1)\n",
    "split_2014 = pd.Timestamp(\"2014-06-09\")\n",
    "split_2020 = pd.Timestamp(\"2020-08-31\")\n",
    "\n",
    "# 根据日期处理拆股\n",
    "mask_pre_2014 = combined_df_daily.index < split_2014\n",
    "mask_2014_to_2020 = (combined_df_daily.index >= split_2014) & (combined_df_daily.index < split_2020)\n",
    "\n",
    "# 除以相应的比例\n",
    "combined_df_daily.loc[mask_pre_2014, 'aapl'] /= (7 * 4)   # 28-for-1\n",
    "combined_df_daily.loc[mask_2014_to_2020, 'aapl'] /= 4     # 4-for-1\n",
    "print(combined_df_daily.head())"
   ]
  },
  {
   "cell_type": "code",
   "execution_count": 31,
   "metadata": {},
   "outputs": [
    {
     "name": "stdout",
     "output_type": "stream",
     "text": [
      "                 spy       vix      aapl  TLT_close  IEF_close  SHY_close  \\\n",
      "date                                                                        \n",
      "2013-06-03  0.015991  0.097077  0.008302   0.360473   0.480211   0.616852   \n",
      "2013-06-04  0.014258  0.096941  0.008096   0.348536   0.472296   0.616852   \n",
      "2013-06-05  0.009235  0.113664  0.007484   0.366216   0.487247   0.618442   \n",
      "2013-06-06  0.012438  0.101835  0.006514   0.365428   0.491058   0.616852   \n",
      "2013-06-07  0.016979  0.081577  0.007003   0.342230   0.467018   0.615262   \n",
      "\n",
      "            daily_policy_index       cci  jobless_claims  \\\n",
      "date                                                       \n",
      "2013-06-03            0.072523  0.663424        0.033143   \n",
      "2013-06-04            0.055901  0.663424        0.033143   \n",
      "2013-06-05            0.058403  0.663424        0.033143   \n",
      "2013-06-06            0.055989  0.663424        0.033143   \n",
      "2013-06-07            0.058755  0.663424        0.033143   \n",
      "\n",
      "            1. Economic Policy Uncertainty  ...  \\\n",
      "date                                        ...   \n",
      "2013-06-03                        0.068698  ...   \n",
      "2013-06-04                        0.068698  ...   \n",
      "2013-06-05                        0.068698  ...   \n",
      "2013-06-06                        0.068698  ...   \n",
      "2013-06-07                        0.068698  ...   \n",
      "\n",
      "            Fiscal Policy (Taxes OR Spending)  3. Taxes  \\\n",
      "date                                                      \n",
      "2013-06-03                           0.099007  0.089391   \n",
      "2013-06-04                           0.099007  0.089391   \n",
      "2013-06-05                           0.099007  0.089391   \n",
      "2013-06-06                           0.099007  0.089391   \n",
      "2013-06-07                           0.099007  0.089391   \n",
      "\n",
      "            4. Government spending  5. Health care  6. National security  \\\n",
      "date                                                                       \n",
      "2013-06-03                0.067027         0.07839              0.037017   \n",
      "2013-06-04                0.067027         0.07839              0.037017   \n",
      "2013-06-05                0.067027         0.07839              0.037017   \n",
      "2013-06-06                0.067027         0.07839              0.037017   \n",
      "2013-06-07                0.067027         0.07839              0.037017   \n",
      "\n",
      "            7. Entitlement programs  8. Regulation  Financial Regulation  \\\n",
      "date                                                                       \n",
      "2013-06-03                 0.090511       0.099165              0.102539   \n",
      "2013-06-04                 0.090511       0.099165              0.102539   \n",
      "2013-06-05                 0.090511       0.099165              0.102539   \n",
      "2013-06-06                 0.090511       0.099165              0.102539   \n",
      "2013-06-07                 0.090511       0.099165              0.102539   \n",
      "\n",
      "            9. Trade policy  10. Sovereign debt, currency crises  \n",
      "date                                                              \n",
      "2013-06-03         0.026137                             0.120354  \n",
      "2013-06-04         0.026137                             0.120354  \n",
      "2013-06-05         0.026137                             0.120354  \n",
      "2013-06-06         0.026137                             0.120354  \n",
      "2013-06-07         0.026137                             0.120354  \n",
      "\n",
      "[5 rows x 21 columns]\n"
     ]
    }
   ],
   "source": [
    "from sklearn.preprocessing import MinMaxScaler\n",
    "df = combined_df_daily.copy()\n",
    "scaler = MinMaxScaler()\n",
    "df = pd.DataFrame(scaler.fit_transform(df), columns=df.columns, index=df.index)\n",
    "print(df.head())\n"
   ]
  },
  {
   "cell_type": "code",
   "execution_count": 55,
   "metadata": {},
   "outputs": [],
   "source": [
    "import torch\n",
    "import torch.nn as nn\n",
    "import torchsde\n",
    "\n",
    "def prepare_data(df, target_cols, feature_cols):\n",
    "    df = df.dropna()\n",
    "    df.index = pd.to_datetime(df.index)\n",
    "    df_train = df[df.index < \"2024-01-01\"]\n",
    "    df_test = df[df.index >= \"2024-01-01\"]\n",
    "    t = torch.linspace(0, 1, steps=len(df_train))\n",
    "    x = torch.tensor(df_train[feature_cols].values, dtype=torch.float32)\n",
    "    y = torch.tensor(df_train[target_cols].values, dtype=torch.float32)\n",
    "    t_test = torch.linspace(0, 1, steps=len(df_test))\n",
    "    x_test = torch.tensor(df_test[feature_cols].values, dtype=torch.float32)\n",
    "    y_test = torch.tensor(df_test[target_cols].values, dtype=torch.float32)\n",
    "    return t, x, y, t_test, x_test, y_test\n",
    "\n"
   ]
  },
  {
   "cell_type": "code",
   "execution_count": 34,
   "metadata": {},
   "outputs": [],
   "source": [
    "class NeuralSDEFunc(torchsde.BaseSDE):\n",
    "    noise_type = 'diagonal'\n",
    "    sde_type = 'ito'\n",
    "\n",
    "    def __init__(self, feature_data, output_dim, hidden_dim=64):\n",
    "        \"\"\"\n",
    "        feature_data: torch.Tensor，shape = [T, feature_dim]，所有时间点的特征输入\n",
    "        output_dim: 输出维度（目标变量维度）\n",
    "        \"\"\"\n",
    "        super().__init__(noise_type='diagonal', sde_type='ito')\n",
    "        self.feature_data = feature_data  # 作为类属性保存，方便在 f, g 中调用\n",
    "        self.output_dim = output_dim\n",
    "        self.hidden_dim = hidden_dim\n",
    "\n",
    "        input_dim = feature_data.shape[1] + 1 + output_dim  # 特征 + 时间 + y_dim\n",
    "\n",
    "        self.gru = nn.GRU(input_size=input_dim, hidden_size=hidden_dim, batch_first=True)\n",
    "        self.f_out = nn.Linear(hidden_dim, output_dim)\n",
    "\n",
    "        self.g_net = nn.Sequential(\n",
    "            nn.Linear(input_dim, hidden_dim),\n",
    "            nn.Tanh(),\n",
    "            nn.Linear(hidden_dim, output_dim),\n",
    "            nn.Softplus()  # 保证扩散项非负\n",
    "        )\n",
    "\n",
    "        self.last_hidden = None\n",
    "\n",
    "    def forward_input(self, t, y):\n",
    "        \"\"\"\n",
    "        构造 GRU 输入：\n",
    "        - y: (batch, output_dim)\n",
    "        - 取 t 对应最近的 feature_data 特征向量，拼接 y 和 t\n",
    "        返回：(batch, 1, input_dim)\n",
    "        \"\"\"\n",
    "        batch_size = y.size(0)\n",
    "        feature_len = self.feature_data.shape[0]\n",
    "\n",
    "        # 计算索引 idx，t 是归一化时间[0,1]\n",
    "        idx = min(int(t.item() * (feature_len - 1)), feature_len - 1)\n",
    "        x_t = self.feature_data[idx].to(y.device)  # (feature_dim,)\n",
    "\n",
    "        # 扩展维度以匹配 batch\n",
    "        x_exp = x_t.unsqueeze(0).expand(batch_size, -1)  # (batch, feature_dim)\n",
    "        t_tensor = torch.tensor([t.item()], dtype=torch.float32, device=y.device)\n",
    "        t_exp = t_tensor.unsqueeze(0).expand(batch_size, 1)  # (batch, 1)\n",
    "\n",
    "        # 拼接 (batch, output_dim + feature_dim + 1)\n",
    "        input_cat = torch.cat([y, x_exp, t_exp], dim=-1)\n",
    "\n",
    "        # 加上 seq_len=1 维度，GRU 输入要求 (batch, seq_len, input_size)\n",
    "        return input_cat.unsqueeze(1)\n",
    "\n",
    "    def f(self, t, y):\n",
    "        input_ = self.forward_input(t, y)\n",
    "        out, self.last_hidden = self.gru(input_, self.last_hidden)\n",
    "        out = out.squeeze(1)  # (batch, hidden_dim)\n",
    "        drift = self.f_out(out)  # (batch, output_dim)\n",
    "        return drift\n",
    "\n",
    "    def g(self, t, y):\n",
    "        batch_size = y.size(0)\n",
    "        feature_len = self.feature_data.shape[0]\n",
    "        idx = min(int(t.item() * (feature_len - 1)), feature_len - 1)\n",
    "        x_t = self.feature_data[idx].to(y.device)\n",
    "        x_exp = x_t.unsqueeze(0).expand(batch_size, -1)\n",
    "        t_tensor = torch.tensor([t.item()], dtype=torch.float32, device=y.device)\n",
    "        t_exp = t_tensor.unsqueeze(0).expand(batch_size, 1)\n",
    "        input_cat = torch.cat([y, x_exp, t_exp], dim=-1)  # (batch, input_dim)\n",
    "\n",
    "        diffusion = self.g_net(input_cat)  # (batch, output_dim)\n",
    "\n",
    "        # 直接返回 (batch, output_dim)，不用 diag_embed\n",
    "        return diffusion"
   ]
  },
  {
   "cell_type": "code",
   "execution_count": 35,
   "metadata": {},
   "outputs": [],
   "source": [
    "# ==== Step 3: 模型训练 ====\n",
    "def train_neural_sde(t, x, y, epochs=150, lr=1e-3):\n",
    "    feature_dim = x.shape[1]\n",
    "    output_dim = y.shape[1]\n",
    "    model = NeuralSDEFunc(x, output_dim)\n",
    "\n",
    "    optimizer = torch.optim.Adam(model.parameters(), lr=lr)\n",
    "    y0 = y[0].unsqueeze(0)  # 初始状态，形状为 [1, D]\n",
    "\n",
    "    for epoch in range(epochs):\n",
    "        model.last_hidden = None\n",
    "        pred_y = torchsde.sdeint(model, y0, t, method='euler')  # shape: [T, D]\n",
    "        loss = ((pred_y - y) ** 2).mean()\n",
    "\n",
    "        optimizer.zero_grad()\n",
    "        loss.backward()\n",
    "        optimizer.step()\n",
    "\n",
    "        if epoch % 10 == 0:\n",
    "            print(f\"Epoch {epoch}: Loss = {loss.item():.4f}\")\n",
    "\n",
    "    return model\n",
    "\n",
    "# ==== Step 4: 可视化函数 ====\n",
    "def plot_sde_prediction(t, pred, true, labels):\n",
    "    t_np = t.numpy()\n",
    "    for i, label in enumerate(labels):\n",
    "        plt.plot(t_np, pred[:, i].detach().numpy(), label=f\"Predicted {label}\")\n",
    "        plt.plot(t_np, true[:, i].numpy(), label=f\"True {label}\")\n",
    "    plt.xlabel(\"Normalized Time\")\n",
    "    plt.legend()\n",
    "    plt.title(\"Neural SDE Prediction\")\n",
    "    plt.grid(True)\n",
    "    plt.show()\n"
   ]
  },
  {
   "cell_type": "code",
   "execution_count": 56,
   "metadata": {},
   "outputs": [
    {
     "name": "stdout",
     "output_type": "stream",
     "text": [
      "Epoch 0: Loss = 0.3719\n",
      "Epoch 10: Loss = 0.1190\n",
      "Epoch 20: Loss = 0.2534\n",
      "Epoch 30: Loss = 0.1491\n",
      "Epoch 40: Loss = 0.2705\n",
      "Epoch 50: Loss = 0.0888\n",
      "Epoch 60: Loss = 0.1885\n",
      "Epoch 70: Loss = 0.0726\n",
      "Epoch 80: Loss = 0.0929\n",
      "Epoch 90: Loss = 0.0832\n",
      "Epoch 100: Loss = 0.1505\n",
      "Epoch 110: Loss = 0.1043\n"
     ]
    }
   ],
   "source": [
    "import pandas as pd\n",
    "feature_cols = [\"vix\", \"TLT_close\", \"IEF_close\", \"SHY_close\",\n",
    "                \"daily_policy_index\", \"cci\", \"jobless_claims\", \"spy\"]\n",
    "target_cols = [\"spy\", \"aapl\"]\n",
    "\n",
    "t, x, y, t_test, x_test, y_test = prepare_data(df, target_cols, feature_cols)\n",
    "model = train_neural_sde(t, x, y, epochs=120, lr=1e-3)\n"
   ]
  },
  {
   "cell_type": "code",
   "execution_count": 57,
   "metadata": {},
   "outputs": [
    {
     "data": {
      "image/png": "[encoded data removed]",
      "text/plain": [
       "<Figure size 640x480 with 1 Axes>"
      ]
     },
     "metadata": {},
     "output_type": "display_data"
    }
   ],
   "source": [
    "model.last_hidden = None  # 重置隐藏状态\n",
    "# 使用训练好的模型进行预测\n",
    "y0 = y[0].unsqueeze(0)  # shape: (1, D)\n",
    "pred_y = torchsde.sdeint(model, y0, t, method='euler')  # shape: (T, 1, D)\n",
    "pred_y = pred_y[:, 0]  # 去掉 batch 维度\n",
    "plot_sde_prediction(t, pred_y, y, labels=target_cols)"
   ]
  },
  {
   "cell_type": "code",
   "execution_count": 58,
   "metadata": {},
   "outputs": [],
   "source": [
    "def sample_paths(sde, y0, t, n_paths=100, method='euler'):\n",
    "    paths = []\n",
    "    for i in range(n_paths):\n",
    "        sde.last_hidden = None  # reset GRU memory\n",
    "        y_path = torchsde.sdeint(sde, y0, t, method=method)  # shape: [T, D]\n",
    "        paths.append(y_path.unsqueeze(0))  # shape: [1, T, D]\n",
    "        if i % 5 == 0:\n",
    "            print(f\"Loading: {i/n_paths*100}% completed\")\n",
    "    return torch.cat(paths, dim=0)  # shape: [N, T, D]\n",
    "import matplotlib.pyplot as plt\n",
    "\n",
    "def plot_path_distribution(t, samples, true=None, label=\"SPY\"):\n",
    "    t_np = t.numpy()\n",
    "    mean_path = samples.mean(dim=0)  # shape: [T, D]\n",
    "    std_path = samples.std(dim=0)\n",
    "    y_mean = mean_path[:, 0].detach().cpu().numpy().reshape(-1)\n",
    "    y_std = std_path[:, 0].detach().cpu().numpy().reshape(-1)\n",
    "    print(y_mean.shape, y_std.shape)\n",
    "\n",
    "    plt.plot(t_np, mean_path[:, 0].detach().numpy(), label=f\"Mean {label}\")\n",
    "    plt.fill_between(\n",
    "        t_np,\n",
    "        y_mean - 2 * y_std,\n",
    "        y_mean + 2 * y_std,\n",
    "        color='blue', alpha=0.2, label=\"95% CI\"\n",
    "    )\n",
    "\n",
    "    aapl_mean = mean_path[:, 1].detach().cpu().numpy().reshape(-1)\n",
    "    aapl_std = std_path[:, 1].detach().cpu().numpy().reshape(-1)\n",
    "    print(aapl_mean.shape, aapl_std.shape)\n",
    "\n",
    "    plt.plot(t_np, mean_path[:, 1].detach().numpy(), label=f\"Mean AAPL\")\n",
    "    plt.fill_between(\n",
    "        t_np,\n",
    "        aapl_mean - 2 * aapl_std,\n",
    "        aapl_mean + 2 * aapl_std,\n",
    "        color='red', alpha=0.2, label=\"95% CI\"\n",
    "    )\n",
    "\n",
    "\n",
    "    if true is not None:\n",
    "        plt.plot(t_np, true[:, 0].numpy(), label=\"True SPY\", linewidth = 0.5, color='black')\n",
    "        plt.plot(t_np, true[:, 1].numpy(), label=\"True AAPL\", linewidth = 0.5, color='gray')\n",
    "\n",
    "    plt.title(f\"Neural SDE {label} Distribution\")\n",
    "    plt.xlabel(\"Normalized Time\")\n",
    "    plt.legend()\n",
    "    plt.grid(True)\n",
    "    plt.show()\n"
   ]
  },
  {
   "cell_type": "code",
   "execution_count": 59,
   "metadata": {},
   "outputs": [
    {
     "name": "stdout",
     "output_type": "stream",
     "text": [
      "Loading: 0.0% completed\n",
      "Loading: 10.0% completed\n",
      "Loading: 20.0% completed\n",
      "Loading: 30.0% completed\n",
      "Loading: 40.0% completed\n",
      "Loading: 50.0% completed\n",
      "Loading: 60.0% completed\n",
      "Loading: 70.0% completed\n",
      "Loading: 80.0% completed\n",
      "Loading: 90.0% completed\n"
     ]
    }
   ],
   "source": [
    "samples = sample_paths(model, y0, t, n_paths=50, method='euler')\n",
    "samples = samples.squeeze(2)"
   ]
  },
  {
   "cell_type": "code",
   "execution_count": 60,
   "metadata": {},
   "outputs": [
    {
     "name": "stdout",
     "output_type": "stream",
     "text": [
      "(2664,) (2664,)\n",
      "(2664,) (2664,)\n"
     ]
    },
    {
     "data": {
      "image/png": "[encoded data removed]",
      "text/plain": [
       "<Figure size 640x480 with 1 Axes>"
      ]
     },
     "metadata": {},
     "output_type": "display_data"
    }
   ],
   "source": [
    "plot_path_distribution(t, samples, true=y, label=\"SPY\")"
   ]
  },
  {
   "cell_type": "markdown",
   "metadata": {},
   "source": [
    "### Validation"
   ]
  },
  {
   "cell_type": "code",
   "execution_count": 61,
   "metadata": {},
   "outputs": [
    {
     "name": "stdout",
     "output_type": "stream",
     "text": [
      "torch.Size([105, 2])\n",
      "Loading: 0.0% completed\n",
      "Loading: 10.0% completed\n",
      "Loading: 20.0% completed\n",
      "Loading: 30.0% completed\n",
      "Loading: 40.0% completed\n",
      "Loading: 50.0% completed\n",
      "Loading: 60.0% completed\n",
      "Loading: 70.0% completed\n",
      "Loading: 80.0% completed\n",
      "Loading: 90.0% completed\n",
      "torch.Size([50, 105, 2])\n",
      "(105,) (105,)\n",
      "(105,) (105,)\n"
     ]
    },
    {
     "data": {
      "image/png": "[encoded data removed]",
      "text/plain": [
       "<Figure size 640x480 with 1 Axes>"
      ]
     },
     "metadata": {},
     "output_type": "display_data"
    }
   ],
   "source": [
    "def model_validation(t_test, x, y):\n",
    "    model.feature_data = x  # 保存特征数据到模型中\n",
    "    model.last_hidden = None  # 重置隐藏状态\n",
    "    print(y_test.shape)\n",
    "    y0 = y_test[0].unsqueeze(0)  # 初始状态，形状为 [1, D]   \n",
    "    pred_y = torchsde.sdeint(model, y0, t_test, method='euler')  # shape (T, 1, D)\n",
    "    pred_y = pred_y[:, 0]  # 去掉 batch 维度\n",
    "    samples = sample_paths(model, y0, t_test, n_paths=50, method='euler')\n",
    "    samples = samples.squeeze(2)\n",
    "    print(samples.shape)\n",
    "    plot_path_distribution(t_test, samples, true=y_test, label=\"SPY\")\n",
    "\n",
    "\n",
    "model_validation(t_test, x_test, y_test)\n"
   ]
  }
 ],
 "metadata": {
  "kaggle": {
   "accelerator": "nvidiaTeslaT4",
   "dataSources": [
    {
     "datasetId": 5070173,
     "sourceId": 8522582,
     "sourceType": "datasetVersion"
    }
   ],
   "dockerImageVersionId": 30698,
   "isGpuEnabled": true,
   "isInternetEnabled": false,
   "language": "python",
   "sourceType": "notebook"
  },
  "kernelspec": {
   "display_name": "base",
   "language": "python",
   "name": "python3"
  },
  "language_info": {
   "codemirror_mode": {
    "name": "ipython",
    "version": 3
   },
   "file_extension": ".py",
   "mimetype": "text/x-python",
   "name": "python",
   "nbconvert_exporter": "python",
   "pygments_lexer": "ipython3",
   "version": "3.12.3"
  }
 },
 "nbformat": 4,
 "nbformat_minor": 4
}
